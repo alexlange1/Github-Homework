{
 "cells": [
  {
   "cell_type": "markdown",
   "metadata": {},
   "source": [
    "# Pandas I\n",
    "\n",
    "## Netflix \n",
    "\n",
    "### 1. Is there any missing rating?"
   ]
  },
  {
   "cell_type": "code",
   "execution_count": 1,
   "metadata": {},
   "outputs": [
    {
     "name": "stdout",
     "output_type": "stream",
     "text": [
      "Netflix Titles Dataset Analysis\n",
      "Total Missing Ratings: 4\n"
     ]
    }
   ],
   "source": [
    "import pandas as pd\n",
    "\n",
    "# Load the dataset\n",
    "df = pd.read_csv('/Users/alexanderlange/Downloads/netflix_titles.csv')\n",
    "\n",
    "# Calculate the number of missing ratings\n",
    "missing_ratings = df['rating'].isnull().sum()\n",
    "\n",
    "# Display Results\n",
    "print(\"Netflix Titles Dataset Analysis\")\n",
    "print(f\"Total Missing Ratings: {missing_ratings:,}\")"
   ]
  },
  {
   "cell_type": "markdown",
   "metadata": {},
   "source": [
    "### 2. How many films in 2021 correspond to your country?\n"
   ]
  },
  {
   "cell_type": "code",
   "execution_count": 2,
   "metadata": {},
   "outputs": [
    {
     "name": "stdout",
     "output_type": "stream",
     "text": [
      "Analysis: Movies from Spain Released in 2021\n",
      "Total Movies: 6\n"
     ]
    }
   ],
   "source": [
    "# Filter the dataset for movies released in 2021 from Spain\n",
    "movies_2021_spain = df[\n",
    "    (df['type'] == 'Movie') &\n",
    "    (df['release_year'] == 2021) &\n",
    "    (df['country'].str.contains('Spain', na=False))\n",
    "]\n",
    "\n",
    "# Count the number of such movies\n",
    "num_movies_2021_spain = movies_2021_spain.shape[0]\n",
    "\n",
    "# Display Results\n",
    "print(\"Analysis: Movies from Spain Released in 2021\")\n",
    "print(f\"Total Movies: {num_movies_2021_spain}\")"
   ]
  },
  {
   "cell_type": "markdown",
   "metadata": {},
   "source": [
    "### 3. What's the number of movies in 2020 with full information?\n"
   ]
  },
  {
   "cell_type": "code",
   "execution_count": 3,
   "metadata": {},
   "outputs": [
    {
     "name": "stdout",
     "output_type": "stream",
     "text": [
      "Analysis: Movies Released in 2020 with Complete Information \n",
      "Number of Movies with Full Information: 409\n"
     ]
    }
   ],
   "source": [
    "# Filter the dataset for movies released in 2020\n",
    "movies_2020 = df[(df['type'] == 'Movie') & (df['release_year'] == 2020)]\n",
    "\n",
    "# Retain only movies with complete information\n",
    "movies_2020_full_info = movies_2020.dropna()\n",
    "\n",
    "# Calculate the number of such movies\n",
    "num_movies_2020_full_info = movies_2020_full_info.shape[0]\n",
    "\n",
    "# Display Results\n",
    "print(\"Analysis: Movies Released in 2020 with Complete Information \")\n",
    "print(f\"Number of Movies with Full Information: {num_movies_2020_full_info}\")"
   ]
  },
  {
   "cell_type": "markdown",
   "metadata": {},
   "source": [
    "### 4. Give me the year with more titles\n"
   ]
  },
  {
   "cell_type": "code",
   "execution_count": 4,
   "metadata": {},
   "outputs": [
    {
     "name": "stdout",
     "output_type": "stream",
     "text": [
      "Analysis: Year with the Most Titles Released \n",
      "The year with the most titles is 2018, with a total of 1147 titles.\n"
     ]
    }
   ],
   "source": [
    "import pandas as pd\n",
    "\n",
    "# Group the dataset by release year and count the number of titles\n",
    "titles_per_year = df.groupby('release_year').size()\n",
    "\n",
    "# Find the year with the most titles and the corresponding count\n",
    "max_titles_year = titles_per_year.idxmax()\n",
    "max_titles_count = titles_per_year.max()\n",
    "\n",
    "# Display Results\n",
    "print(\"Analysis: Year with the Most Titles Released \")\n",
    "print(f\"The year with the most titles is {max_titles_year}, with a total of {max_titles_count} titles.\")"
   ]
  },
  {
   "cell_type": "markdown",
   "metadata": {},
   "source": [
    "### 5. And what has been the average in terms of releases from 2010. \n"
   ]
  },
  {
   "cell_type": "code",
   "execution_count": 5,
   "metadata": {},
   "outputs": [
    {
     "name": "stdout",
     "output_type": "stream",
     "text": [
      "Analysis: Average Number of Releases Per Year (2010 Onwards) \n",
      "Average Releases Per Year: 622.67\n"
     ]
    }
   ],
   "source": [
    "import pandas as pd\n",
    "\n",
    "# Filter the dataset for titles released from 2010 onwards\n",
    "df_2010_onwards = df[df['release_year'] >= 2010]\n",
    "\n",
    "# Group by release year and count the number of titles for each year\n",
    "titles_per_year_2010_onwards = df_2010_onwards.groupby('release_year').size()\n",
    "\n",
    "# Calculate the average number of releases per year\n",
    "average_releases_per_year = titles_per_year_2010_onwards.mean()\n",
    "\n",
    "# Display Results\n",
    "print(\"Analysis: Average Number of Releases Per Year (2010 Onwards) \")\n",
    "print(f\"Average Releases Per Year: {average_releases_per_year:.2f}\")"
   ]
  },
  {
   "cell_type": "markdown",
   "metadata": {},
   "source": [
    "## Titanic \n",
    "\n",
    "### 1. Calculate Gender-Based Survival Percentage\n"
   ]
  },
  {
   "cell_type": "code",
   "execution_count": 6,
   "metadata": {},
   "outputs": [
    {
     "name": "stdout",
     "output_type": "stream",
     "text": [
      "Gender-Based Survival Percentage:\n",
      " Gender  Survival Percentage\n",
      "      0            12.930012\n",
      "      1            50.000000\n"
     ]
    }
   ],
   "source": [
    "import pandas as pd\n",
    "\n",
    "# Load the dataset\n",
    "df = pd.read_csv('/Users/alexanderlange/Downloads/train_and_test2.csv')\n",
    "\n",
    "# Count the occurrences of each gender\n",
    "gender_counts = df['Sex'].value_counts()\n",
    "\n",
    "# Count the number of survivors for each gender\n",
    "gender_survival_counts = df[df['2urvived'] == 1]['Sex'].value_counts()\n",
    "\n",
    "# Calculate the survival percentage for each gender\n",
    "gender_survival_percentage = (gender_survival_counts / gender_counts) * 100\n",
    "\n",
    "# Convert to a DataFrame\n",
    "gender_survival_percentage_df = gender_survival_percentage.reset_index()\n",
    "gender_survival_percentage_df.columns = ['Gender', 'Survival Percentage']\n",
    "\n",
    "# Display Results\n",
    "print(\"Gender-Based Survival Percentage:\")\n",
    "print(gender_survival_percentage_df.to_string(index=False))"
   ]
  },
  {
   "cell_type": "markdown",
   "metadata": {},
   "source": [
    "### 2. Calculate Survival Percentage Grouped by Gender and Classf"
   ]
  },
  {
   "cell_type": "code",
   "execution_count": 7,
   "metadata": {},
   "outputs": [
    {
     "name": "stdout",
     "output_type": "stream",
     "text": [
      "Survival Percentage Grouped by Gender and Class:\n",
      " Gender  Passenger Class  Survival Percentage\n",
      "      0                1            25.139665\n",
      "      0                2             9.941520\n",
      "      0                3             9.533469\n",
      "      1                1            63.194444\n",
      "      1                2            66.037736\n",
      "      1                3            33.333333\n"
     ]
    }
   ],
   "source": [
    "import pandas as pd\n",
    "\n",
    "# Calculate survival percentage grouped by gender and class\n",
    "survival_by_gender_class = df.groupby(['Sex', 'Pclass'])['2urvived'].mean() * 100\n",
    "\n",
    "# Convert to a DataFrame\n",
    "survival_by_gender_class_df = survival_by_gender_class.reset_index()\n",
    "survival_by_gender_class_df.columns = ['Gender', 'Passenger Class', 'Survival Percentage']\n",
    "\n",
    "# Display Results\n",
    "print(\"Survival Percentage Grouped by Gender and Class:\")\n",
    "print(survival_by_gender_class_df.to_string(index=False))"
   ]
  }
 ],
 "metadata": {
  "kernelspec": {
   "display_name": "3.10.15",
   "language": "python",
   "name": "python3"
  },
  "language_info": {
   "codemirror_mode": {
    "name": "ipython",
    "version": 3
   },
   "file_extension": ".py",
   "mimetype": "text/x-python",
   "name": "python",
   "nbconvert_exporter": "python",
   "pygments_lexer": "ipython3",
   "version": "3.10.15"
  }
 },
 "nbformat": 4,
 "nbformat_minor": 2
}
